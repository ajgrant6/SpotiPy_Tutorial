{
 "cells": [
  {
   "cell_type": "markdown",
   "metadata": {},
   "source": [
    "# Welcome to your SpotiPy crash course!\n",
    "\n",
    "The SpotiPy API gives developers access to music data and controls with easy to use tools. In this tutorial, we will be using the SpotiPy API to view and control our music playback.\n",
    "\n",
    "---\n",
    "## Setting up our app\n",
    "\n",
    "Before we begin we must set up an app on the Spotify dashboard. Follow these steps to do so:\n",
    "1. Head to the Spotify developer dashboard: https://developer.spotify.com/dashboard/ ![Spotify developer dashboard](images/1.png \"1\")\n",
    "1. Create an app. Title it whatever you'd like. ![App creation menu](images/2.png \"2\")\n",
    "1. Once the app is created, click \"edit settings\" and add \"http://localhost:8080/\" to the \"Redirect URIs\". (We'll cover the importance of this step later). Remember to click _add_ and scroll down to click _save_! ![App settings menu](images/4.png \"4\")\n",
    "\n",
    "While we're still at our app's dashboard, we need to gather 2 things:\n",
    "1. Our Client ID\n",
    "1. Our Secret ID\n",
    ">WARNING: Having these IDs gives a devloper a lot of power over your account. Do not share these codes with anyone. This means: No sharing screenshots of your IDs and no uploading files containing these IDs. That includes GitHub. Do not upload this file to GitHub if it contains your IDs.\n",
    "\n",
    "![App dashboard](images/3.png \"3\")\n",
    "\n",
    "Store those credentials as string variables below.\n",
    ">Note: There are methods to store variables in a secure way. To keep this tutorial beginner friendly, we will just store the credentials as variables. Admittedly, this is a dangerous habit, so if you have the time, look into \"environmtal variables.\""
   ]
  },
  {
   "cell_type": "code",
   "execution_count": null,
   "metadata": {},
   "outputs": [],
   "source": [
    "import spotipy\n",
    "from spotipy.oauth2 import SpotifyOAuth # This is the library that will assist in the authentication process later\n",
    "\n",
    "client_id = \"YOUR_CLIENT_ID\" # Replace with your client ID\n",
    "client_secret = \"YOUR_CLIENT_SECRET_ID\" # Replace with your client secret\n",
    "redirect_uri = \"http://localhost:8080/\" # I promise we'll explain this later \n",
    "\n",
    "# DO NOT SHARE THESE VARIABLES. DO NOT SHARE FILES (like this one) CONTRAINING THESE VARIABLES."
   ]
  },
  {
   "cell_type": "markdown",
   "metadata": {},
   "source": [
    "## Setting up our app 2: Credential Bugaloo\n",
    "There is one last thing we need and that's our _scope_. You see, before we make modifcations to your account, control your music, or view your music history, we need to generate an OAuth token. To generate a token we need the variables we stored above, but we also need to let Spotify know what we want access to with that token.\n",
    "\n",
    "Spotify has mny scopes, each one covers a different part of your account. You can view them all here: https://developer.spotify.com/documentation/general/guides/authorization/scopes/\n",
    "\n",
    "In this tutorial we are going to need to read the users current playback and modify that playback. That means we need the following 2 scopes:\n",
    "\n",
    ">user-modify-playback-state, user-read-playback-state\n",
    "\n",
    "![Spotify authorization scopes](images/6.png \"6\")\n",
    "\n",
    "We will store these scopes as a single string seperated by a space. (For future projects, you can store as many scopes as you need into a single string)"
   ]
  },
  {
   "cell_type": "code",
   "execution_count": null,
   "metadata": {},
   "outputs": [],
   "source": [
    "scope = \"user-modify-playback-state user-read-playback-state\""
   ]
  },
  {
   "cell_type": "markdown",
   "metadata": {},
   "source": [
    "We are now ready to generate our token our Spotify OAuth Token. The SpotifyOAuth object needs 4 things; The client_id, client_secret, redirect_uri, and scope."
   ]
  },
  {
   "cell_type": "code",
   "execution_count": null,
   "metadata": {},
   "outputs": [],
   "source": [
    "token = SpotifyOAuth(client_id = client_id, client_secret = client_secret, redirect_uri = redirect_uri, scope = scope)"
   ]
  },
  {
   "cell_type": "markdown",
   "metadata": {},
   "source": [
    "With this token, we can initialize our _spotipy_ object with our token as the _auth\\_manager_. We'll call our _spotipy_ object _sp_. "
   ]
  },
  {
   "cell_type": "code",
   "execution_count": null,
   "metadata": {},
   "outputs": [],
   "source": [
    "sp = spotipy.Spotify(auth_manager=token)\n",
    "\n",
    "print(sp.me())"
   ]
  },
  {
   "cell_type": "markdown",
   "metadata": {},
   "source": [
    "## Authentication complete!\n",
    "If everything went well, you should have been prompted to your web browser (this is where the https://localhost:8080/ redirect_uri comes into play). You can see the request to access your account on your web browser. The requested permissions changes depending on the scope. Once you agreed to the conditions, _print(sp.me())_ should have printed out info on your user."
   ]
  },
  {
   "cell_type": "markdown",
   "metadata": {},
   "source": [
    "## Viewing Playback\n",
    "Now the fun begins. On any device, begin playing music, then run the following bit of code."
   ]
  },
  {
   "cell_type": "code",
   "execution_count": null,
   "metadata": {},
   "outputs": [],
   "source": [
    "currently_playing_song = sp.currently_playing() # Gets information about the currently playing song\n",
    "\n",
    "print(currently_playing_song)"
   ]
  },
  {
   "cell_type": "markdown",
   "metadata": {},
   "source": [
    "If you run that command while a song is playing, a ton of data should have printed. The data comes in the form of a JSON. We can sift through that JSON to get some more readable information."
   ]
  },
  {
   "cell_type": "code",
   "execution_count": null,
   "metadata": {},
   "outputs": [],
   "source": [
    "print(currently_playing_song['item']['name']) # Prints the name of the song (Error if currently_playing_song is None)"
   ]
  },
  {
   "cell_type": "markdown",
   "metadata": {},
   "source": [
    "Let's get more info on your currently playing song."
   ]
  },
  {
   "cell_type": "code",
   "execution_count": null,
   "metadata": {},
   "outputs": [],
   "source": [
    "print(\"Album: \" + currently_playing_song['item']['album']['name']) # Prints the name of the album\n",
    "\n",
    "# Prints name of artists\n",
    "for artist in currently_playing_song['item']['artists']:\n",
    "    print(artist['name'])"
   ]
  },
  {
   "cell_type": "markdown",
   "metadata": {},
   "source": [
    "## Controlling Music\n",
    "Finally, we can pause our by running this method on _sp_."
   ]
  },
  {
   "cell_type": "code",
   "execution_count": null,
   "metadata": {},
   "outputs": [],
   "source": [
    "sp.pause_playback(device_id=None) # Pauses playback"
   ]
  },
  {
   "cell_type": "markdown",
   "metadata": {},
   "source": [
    "And we can play with this:"
   ]
  },
  {
   "cell_type": "code",
   "execution_count": null,
   "metadata": {},
   "outputs": [],
   "source": [
    "sp.start_playback(device_id=None) # Starts playback of an album"
   ]
  },
  {
   "cell_type": "markdown",
   "metadata": {},
   "source": [
    "In the previous 2 code snippets, we set _device\\_id_ to _None_. You can get a data on currently available devices with the following method:"
   ]
  },
  {
   "cell_type": "code",
   "execution_count": null,
   "metadata": {},
   "outputs": [],
   "source": [
    "print(sp.devices())"
   ]
  },
  {
   "cell_type": "markdown",
   "metadata": {},
   "source": [
    "## Conclusion\n",
    "By this point, you should be able to generate a Spotify OAuth token and use that token to gather information on currently playing music as well as control currently playing music. This is just the surface of the SpotiPy API. If you'd like to continue exploring the API, I recommend reading the _API Reference_ portion of the SpotiPy documentation here https://spotipy.readthedocs.io/en/master/. I also recommend taking a look at https://developer.spotify.com/documentation/general/guides/authorization/scopes/ to understand all the things Spotify allows you to do."
   ]
  },
  {
   "cell_type": "markdown",
   "metadata": {},
   "source": [
    "## Common issues and how to fix them\n",
    ">[Errno 48] Address already in use\n",
    "\n",
    "This error occurs if the authentication process is interrupted. This causes this Python notebook to continue running it's authentication proccess when it really shouldn't. The fix is to simpy restart the notebook."
   ]
  }
 ],
 "metadata": {
  "kernelspec": {
   "display_name": "Python 3.10.2 64-bit",
   "language": "python",
   "name": "python3"
  },
  "language_info": {
   "codemirror_mode": {
    "name": "ipython",
    "version": 3
   },
   "file_extension": ".py",
   "mimetype": "text/x-python",
   "name": "python",
   "nbconvert_exporter": "python",
   "pygments_lexer": "ipython3",
   "version": "3.10.2"
  },
  "orig_nbformat": 4,
  "vscode": {
   "interpreter": {
    "hash": "aee8b7b246df8f9039afb4144a1f6fd8d2ca17a180786b69acc140d282b71a49"
   }
  }
 },
 "nbformat": 4,
 "nbformat_minor": 2
}
